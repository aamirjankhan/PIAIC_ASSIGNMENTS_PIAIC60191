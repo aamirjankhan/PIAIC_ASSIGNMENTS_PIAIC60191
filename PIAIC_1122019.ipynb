{
 "cells": [
  {
   "cell_type": "code",
   "execution_count": 1,
   "metadata": {},
   "outputs": [
    {
     "data": {
      "text/plain": [
       "65"
      ]
     },
     "execution_count": 1,
     "metadata": {},
     "output_type": "execute_result"
    }
   ],
   "source": [
    "chr(65)\n",
    "ord(\"A\")"
   ]
  },
  {
   "cell_type": "raw",
   "metadata": {},
   "source": [
    "65\"A\" -> 90\"Z\"\n",
    "97\"a\" -> 122\"z\"\n",
    "48\"0\" -> 59\"9\""
   ]
  },
  {
   "cell_type": "code",
   "execution_count": 3,
   "metadata": {},
   "outputs": [
    {
     "name": "stdout",
     "output_type": "stream",
     "text": [
      "aamir\n"
     ]
    }
   ],
   "source": [
    "'''\n",
    "sgrtdsgtrdsrt\n",
    "chtgdcgh\n",
    "chgfch\n",
    "'''\n",
    "print(\"aamir\")"
   ]
  },
  {
   "cell_type": "code",
   "execution_count": 4,
   "metadata": {},
   "outputs": [
    {
     "ename": "SyntaxError",
     "evalue": "invalid syntax (<ipython-input-4-10214c4feb1b>, line 2)",
     "output_type": "error",
     "traceback": [
      "\u001b[1;36m  File \u001b[1;32m\"<ipython-input-4-10214c4feb1b>\"\u001b[1;36m, line \u001b[1;32m2\u001b[0m\n\u001b[1;33m    a++\u001b[0m\n\u001b[1;37m       ^\u001b[0m\n\u001b[1;31mSyntaxError\u001b[0m\u001b[1;31m:\u001b[0m invalid syntax\n"
     ]
    }
   ],
   "source": [
    "a=5\n",
    "a++\n",
    "print(a)"
   ]
  },
  {
   "cell_type": "code",
   "execution_count": 25,
   "metadata": {},
   "outputs": [
    {
     "name": "stdout",
     "output_type": "stream",
     "text": [
      "press u to move up\n",
      "press d to move down\n",
      "press l to move left\n",
      "press r to move right\n",
      "d\n",
      "current location:  Smell \n",
      "\n",
      "do you want to throw an arrow-->\n",
      "press y to throw\n",
      "press n to save your arrow\n",
      "y\n",
      "press u to throw up\n",
      "press d to throw down\n",
      "press l to throw left\n",
      "press r to throw right\n",
      "r\n",
      "arrow wasted...\n",
      "score:  -10\n",
      "press u to move up\n",
      "press d to move down\n",
      "press l to move left\n",
      "press r to move right\n",
      "l\n",
      "move denied\n",
      "current location:  Smell \n",
      "\n",
      "press u to move up\n",
      "press d to move down\n",
      "press l to move left\n",
      "press r to move right\n",
      "d\n",
      "current location:  WUMPUS \n",
      "\n",
      "\n",
      "Wumpus here!!\n",
      " You Die\n",
      "And your score is:  -1010 \n",
      "\n"
     ]
    }
   ],
   "source": [
    "wumpus=[[\"Save\",\"Breeze\",\"PIT\",\"Breeze\"],\n",
    "        [\"Smell\",\"Save\",\"Breeze\",\"Save\"],\n",
    "        [\"WUMPUS\",\"GOLD\",\"PIT\",\"Breeze\"],\n",
    "        [\"Smell\",\"Save\",\"Breeze\",\"PIT\"]]\n",
    "row=0\n",
    "column=0\n",
    "arrow=True\n",
    "player=True\n",
    "score=0\n",
    "while(player):\n",
    "    choice=input(\"press u to move up\\npress d to move down\\npress l to move left\\npress r to move right\\n\")\n",
    "    if choice == \"u\":\n",
    "        if row != 0:\n",
    "            row-=1\n",
    "        else:\n",
    "            print(\"move denied\")\n",
    "        \n",
    "        print(\"current location: \",wumpus[row][column],\"\\n\")\n",
    "    elif choice == \"d\" :\n",
    "        if row!=3:\n",
    "            row+=1\n",
    "        else:\n",
    "            print(\"move denied\")\n",
    "        \n",
    "        print(\"current location: \",wumpus[row][column],\"\\n\")\n",
    "    elif choice == \"l\" :\n",
    "        if column!=0:\n",
    "            column-=1\n",
    "        else:\n",
    "            print(\"move denied\")\n",
    "        \n",
    "        print(\"current location: \",wumpus[row][column],\"\\n\")\n",
    "    elif choice == \"r\" :\n",
    "        if column!=3:\n",
    "            column+=1\n",
    "        else:\n",
    "            print(\"move denied\")\n",
    "        \n",
    "        print(\"current location: \",wumpus[row][column],\"\\n\")\n",
    "    else:\n",
    "        print(\"move denied\")\n",
    "\n",
    "    if wumpus[row][column]==\"Smell\" and arrow != False:\n",
    "        arrow_choice=input(\"do you want to throw an arrow-->\\npress y to throw\\npress n to save your arrow\\n\")\n",
    "        if arrow_choice == \"y\":\n",
    "            arrow_throw=input(\"press u to throw up\\npress d to throw down\\npress l to throw left\\npress r to throw right\\n\")\n",
    "            if arrow_throw == \"u\":\n",
    "                if wumpus[row-1][column] == \"WUMPUS\":\n",
    "                    print(\"wumpus killed!\")\n",
    "                    score+=1000\n",
    "                    print(\"score: \",score)\n",
    "                    wumpus[row-1][column] = \"Save\"\n",
    "                    wumpus[1][0]=\"Save\"\n",
    "                    wumpus[3][0]=\"Save\"\n",
    "                else:\n",
    "                    print(\"arrow wasted...\")\n",
    "                    score-=10\n",
    "                    print(\"score: \",score)\n",
    "            elif arrow_throw == \"d\":\n",
    "                if wumpus[row+1][column] == \"WUMPUS\":\n",
    "                    print(\"wumpus killed!\")\n",
    "                    score+=1000\n",
    "                    print(\"score: \",score)\n",
    "                    wumpus[row+1][column] = \"Save\"\n",
    "                    wumpus[1][0]=\"Save\"\n",
    "                    wumpus[3][0]=\"Save\"\n",
    "                else:\n",
    "                    print(\"arrow wasted...\")\n",
    "                    score-=10\n",
    "                    print(\"score: \",score)\n",
    "            elif arrow_throw == \"l\":\n",
    "                if wumpus[row][column-1] == \"WUMPUS\":\n",
    "                    print(\"wumpus killed!\")\n",
    "                    score+=1000\n",
    "                    print(\"score: \",score)\n",
    "                    wumpus[row][column-1] = \"Save\"\n",
    "                    wumpus[1][0]=\"Save\"\n",
    "                    wumpus[3][0]=\"Save\"\n",
    "                else:\n",
    "                    print(\"arrow wasted...\")\n",
    "                    score-=10\n",
    "                    print(\"score: \",score)\n",
    "            elif arrow_throw == \"r\":\n",
    "                if wumpus[row][column+1] == \"WUMPUS\":\n",
    "                    print(\"wumpus killed!\")\n",
    "                    score+=1000\n",
    "                    print(\"score: \",score)\n",
    "                    wumpus[row][column+1] = \"Save\"\n",
    "                    wumpus[1][0]=\"Save\"\n",
    "                    wumpus[3][0]=\"Save\"\n",
    "                else:\n",
    "                    print(\"arrow wasted...\")\n",
    "                    score-=10\n",
    "                    print(\"score: \",score)\n",
    "                \n",
    "            \n",
    "            arrow=False\n",
    "    if wumpus[row][column] == \"WUMPUS\" :\n",
    "        score-=1000\n",
    "        print(\"\\nWumpus here!!\\n You Die\\nAnd your score is: \",score\n",
    "              ,\"\\n\")\n",
    "        break\n",
    "    if(wumpus[row][column]=='GOLD'):\n",
    "        score+=1000\n",
    "        print(\"GOLD FOUND!You won....\\nYour score is: \",score,\"\\n\")\n",
    "        break\n",
    "    if(wumpus[row][column]=='PIT'):\n",
    "        score-=1000\n",
    "        print(\"Ahhhhh!!!!\\nYou fell in pit.\\nAnd your score is: \",score,\"\\n\")\n",
    "        break\n",
    "        \n",
    "        \n",
    "\n",
    "    \n",
    "\n"
   ]
  },
  {
   "cell_type": "markdown",
   "metadata": {},
   "source": [
    "# bitwise operator"
   ]
  },
  {
   "cell_type": "raw",
   "metadata": {},
   "source": [
    "8,  7,  6, 5, 4, 3,2,1,0\n",
    "2,  2,  2, 2, 2, 2,2,2,2\n",
    "256,128,64,32,16,8,4,2,1"
   ]
  },
  {
   "cell_type": "raw",
   "metadata": {},
   "source": [
    "11101 = 29\n",
    "11100 = 28\n",
    "\n",
    "------\n",
    "11100 = 28"
   ]
  },
  {
   "cell_type": "code",
   "execution_count": 7,
   "metadata": {},
   "outputs": [
    {
     "data": {
      "text/plain": [
       "28"
      ]
     },
     "execution_count": 7,
     "metadata": {},
     "output_type": "execute_result"
    }
   ],
   "source": [
    "28 & 29"
   ]
  },
  {
   "cell_type": "code",
   "execution_count": 8,
   "metadata": {},
   "outputs": [
    {
     "data": {
      "text/plain": [
       "128"
      ]
     },
     "execution_count": 8,
     "metadata": {},
     "output_type": "execute_result"
    }
   ],
   "source": [
    "128 & 129"
   ]
  },
  {
   "cell_type": "code",
   "execution_count": 9,
   "metadata": {},
   "outputs": [
    {
     "data": {
      "text/plain": [
       "64"
      ]
     },
     "execution_count": 9,
     "metadata": {},
     "output_type": "execute_result"
    }
   ],
   "source": [
    "ord(\"A\") & ord(\"B\")"
   ]
  },
  {
   "cell_type": "code",
   "execution_count": 10,
   "metadata": {},
   "outputs": [
    {
     "data": {
      "text/plain": [
       "29"
      ]
     },
     "execution_count": 10,
     "metadata": {},
     "output_type": "execute_result"
    }
   ],
   "source": [
    "29 | 28"
   ]
  },
  {
   "cell_type": "code",
   "execution_count": 11,
   "metadata": {},
   "outputs": [
    {
     "data": {
      "text/plain": [
       "1"
      ]
     },
     "execution_count": 11,
     "metadata": {},
     "output_type": "execute_result"
    }
   ],
   "source": [
    "29 ^ 28"
   ]
  },
  {
   "cell_type": "code",
   "execution_count": 12,
   "metadata": {},
   "outputs": [
    {
     "data": {
      "text/plain": [
       "-30"
      ]
     },
     "execution_count": 12,
     "metadata": {},
     "output_type": "execute_result"
    }
   ],
   "source": [
    "~29"
   ]
  },
  {
   "cell_type": "code",
   "execution_count": 13,
   "metadata": {},
   "outputs": [
    {
     "data": {
      "text/plain": [
       "7"
      ]
     },
     "execution_count": 13,
     "metadata": {},
     "output_type": "execute_result"
    }
   ],
   "source": [
    "#11101\n",
    "29>>2\n",
    "#00111"
   ]
  },
  {
   "cell_type": "code",
   "execution_count": 14,
   "metadata": {},
   "outputs": [
    {
     "data": {
      "text/plain": [
       "116"
      ]
     },
     "execution_count": 14,
     "metadata": {},
     "output_type": "execute_result"
    }
   ],
   "source": [
    "#11101\n",
    "29<<2\n",
    "#1110100\n"
   ]
  },
  {
   "cell_type": "code",
   "execution_count": 26,
   "metadata": {},
   "outputs": [
    {
     "name": "stdout",
     "output_type": "stream",
     "text": [
      "please enter10 words: aamir pakistan a a a a a a\n",
      "True\n"
     ]
    }
   ],
   "source": [
    "name=input(\"please enter\\\n",
    "10 words: \")\n",
    "if \"pakistan\" in name:\n",
    "    print(True)"
   ]
  },
  {
   "cell_type": "code",
   "execution_count": 17,
   "metadata": {},
   "outputs": [
    {
     "name": "stdout",
     "output_type": "stream",
     "text": [
      "True\n"
     ]
    }
   ],
   "source": [
    "a=\"A\"\n",
    "b=a\n",
    "print(a is b)"
   ]
  },
  {
   "cell_type": "code",
   "execution_count": 18,
   "metadata": {},
   "outputs": [
    {
     "ename": "SyntaxError",
     "evalue": "invalid syntax (<ipython-input-18-b2bf297ccc60>, line 1)",
     "output_type": "error",
     "traceback": [
      "\u001b[1;36m  File \u001b[1;32m\"<ipython-input-18-b2bf297ccc60>\"\u001b[1;36m, line \u001b[1;32m1\u001b[0m\n\u001b[1;33m    \"Pakistan\" if True \"zindabad\" elif False else \"nothing\"\u001b[0m\n\u001b[1;37m                                ^\u001b[0m\n\u001b[1;31mSyntaxError\u001b[0m\u001b[1;31m:\u001b[0m invalid syntax\n"
     ]
    }
   ],
   "source": [
    "\"Pakistan\" if True \"zindabad\" elif False else \"nothing\""
   ]
  },
  {
   "cell_type": "code",
   "execution_count": 24,
   "metadata": {},
   "outputs": [
    {
     "name": "stdout",
     "output_type": "stream",
     "text": [
      "please enter your user name: aamir\n",
      "enter your pass: 123\n"
     ]
    },
    {
     "data": {
      "text/plain": [
       "'congrats'"
      ]
     },
     "execution_count": 24,
     "metadata": {},
     "output_type": "execute_result"
    }
   ],
   "source": [
    "name=input(\"please enter your user name: \")\n",
    "passs=input(\"enter your pass: \")\n",
    "\"congrats\" if ((name == \"aamir\") or (name == \"aamir.jankhan@gmail.com\") or (name == \"aamirr\") and passs is \"123\") else \"fail\""
   ]
  },
  {
   "cell_type": "raw",
   "metadata": {},
   "source": [
    "list attributes and methods"
   ]
  },
  {
   "cell_type": "code",
   "execution_count": null,
   "metadata": {},
   "outputs": [],
   "source": [
    "comp=list(dna)\n",
    "    for i in range(len(comp)):\n",
    "        if comp[i] is 'a':\n",
    "            comp[i]='t'\n",
    "        elif comp[i] is 't':\n",
    "            comp[i]='a'\n",
    "        elif comp[i] is 'c':\n",
    "            comp[i]='g'\n",
    "        elif comp[i] is 'g':\n",
    "            comp[i]='c'\n",
    "    return comp"
   ]
  },
  {
   "cell_type": "code",
   "execution_count": 27,
   "metadata": {},
   "outputs": [
    {
     "name": "stdout",
     "output_type": "stream",
     "text": [
      "CYTC_MOUSE \t 48 \t MASPLRSLLFLLAVLAVAWAATPKQGPRMLGAPEEADANEEGVRRALD\n",
      "CYTC_MOUSE \t 48 \t FAVSEYNKGSNDAYHSRAIQVVRARKQLVAGVNYFLDVEMGRTTCTKS\n",
      "CYTC_MOUSE \t 44 \t QTNLTDCPFHDQPHLMRKALCSFQIYSVPWKGTHSLTKFSCKNA\n",
      "GHRL_MOUSE \t 48 \t MLSSGTICSLLLLSMLWMDMAMAGSSFLSPEHQKAQQRKESKKPPAKL\n",
      "GHRL_MOUSE \t 48 \t QPRALEGWLHPEDRGQAEETEEELEIRFNAPFDVGIKLSGAQYQQHGR\n",
      "GHRL_MOUSE \t 21 \t ALGKFLQDILWEEVKEAPADK\n",
      "PCSK1_MOUSE \t 48 \t MAGSPLLCGPRAGGVGILVLLLLGLLRLPPTLSARPVKEPRSLSAASA\n",
      "PCSK1_MOUSE \t 48 \t PLVETSTPLRLRRAVPRGEAAGAVQELARALAHLLEAERQERARAEAQ\n",
      "PCSK1_MOUSE \t 48 \t EAEDQQARVLAQLLRAWGSPRASDPPLAPDDDPDAPAAQLARALLRAR\n",
      "PCSK1_MOUSE \t 48 \t LDPAALAAQLVPAPAAAPRPRPPVYDDGPTGPDVEDAGDETPDVDPEL\n",
      "PCSK1_MOUSE \t 48 \t LRYLLGRILTGSSEPEAAPAPRRLRRSVDQDLGPEVPPENVLGALLRV\n",
      "PCSK1_MOUSE \t 18 \t KRLENPSPQAPARRLLPP\n"
     ]
    }
   ],
   "source": [
    "import re\n",
    "a=open('file.txt','r')\n",
    "b=a.read()\n",
    "d=0\n",
    "length=0\n",
    "f=0\n",
    "g=0\n",
    "b=b.split('\\n')\n",
    "\n",
    "#print(b)\n",
    "for i in b:\n",
    "    if i.startswith('>'):\n",
    "        c=re.search('\\w+',i)\n",
    "        d=c.group()\n",
    "        #print(d)\n",
    "    \n",
    "        \n",
    "        \n",
    "        length=len(i)\n",
    "        #print(length)\n",
    "    if not i.startswith('>'):\n",
    "        f=i.rstrip()\n",
    "        \n",
    "        #print(str(f))\n",
    "        length=len(i)\n",
    "        #print(length)\n",
    "        print(d,\"\\t\",length,\"\\t\",f)"
   ]
  },
  {
   "cell_type": "code",
   "execution_count": 1,
   "metadata": {},
   "outputs": [
    {
     "data": {
      "text/plain": [
       "29"
      ]
     },
     "execution_count": 1,
     "metadata": {},
     "output_type": "execute_result"
    }
   ],
   "source": [
    "29<<0"
   ]
  },
  {
   "cell_type": "code",
   "execution_count": 2,
   "metadata": {},
   "outputs": [
    {
     "data": {
      "text/plain": [
       "-30"
      ]
     },
     "execution_count": 2,
     "metadata": {},
     "output_type": "execute_result"
    }
   ],
   "source": [
    "~29"
   ]
  },
  {
   "cell_type": "code",
   "execution_count": 3,
   "metadata": {},
   "outputs": [
    {
     "data": {
      "text/plain": [
       "'0b11101'"
      ]
     },
     "execution_count": 3,
     "metadata": {},
     "output_type": "execute_result"
    }
   ],
   "source": [
    "bin(29)"
   ]
  },
  {
   "cell_type": "code",
   "execution_count": 4,
   "metadata": {},
   "outputs": [
    {
     "data": {
      "text/plain": [
       "'aamir 1 0.010000 jan'"
      ]
     },
     "execution_count": 4,
     "metadata": {},
     "output_type": "execute_result"
    }
   ],
   "source": [
    "\"%s %d %f %s\"%(\"aamir\",1,0.01,\"jan\")"
   ]
  },
  {
   "cell_type": "code",
   "execution_count": 5,
   "metadata": {},
   "outputs": [
    {
     "ename": "SyntaxError",
     "evalue": "invalid syntax (<ipython-input-5-19d7d2dcdee3>, line 1)",
     "output_type": "error",
     "traceback": [
      "\u001b[1;36m  File \u001b[1;32m\"<ipython-input-5-19d7d2dcdee3>\"\u001b[1;36m, line \u001b[1;32m1\u001b[0m\n\u001b[1;33m    dir(%)\u001b[0m\n\u001b[1;37m        ^\u001b[0m\n\u001b[1;31mSyntaxError\u001b[0m\u001b[1;31m:\u001b[0m invalid syntax\n"
     ]
    }
   ],
   "source": [
    "dir(%)"
   ]
  },
  {
   "cell_type": "code",
   "execution_count": 6,
   "metadata": {},
   "outputs": [
    {
     "ename": "SyntaxError",
     "evalue": "invalid syntax (<ipython-input-6-26f72538bc60>, line 1)",
     "output_type": "error",
     "traceback": [
      "\u001b[1;36m  File \u001b[1;32m\"<ipython-input-6-26f72538bc60>\"\u001b[1;36m, line \u001b[1;32m1\u001b[0m\n\u001b[1;33m    help(%)\u001b[0m\n\u001b[1;37m         ^\u001b[0m\n\u001b[1;31mSyntaxError\u001b[0m\u001b[1;31m:\u001b[0m invalid syntax\n"
     ]
    }
   ],
   "source": [
    "help(%)"
   ]
  },
  {
   "cell_type": "code",
   "execution_count": 7,
   "metadata": {},
   "outputs": [
    {
     "name": "stdout",
     "output_type": "stream",
     "text": [
      "Object ` %` not found.\n"
     ]
    }
   ],
   "source": [
    "? %"
   ]
  },
  {
   "cell_type": "code",
   "execution_count": 8,
   "metadata": {},
   "outputs": [
    {
     "data": {
      "text/plain": [
       "'my name is aamir and my roll number is 128'"
      ]
     },
     "execution_count": 8,
     "metadata": {},
     "output_type": "execute_result"
    }
   ],
   "source": [
    "name=\"aamir\"\n",
    "rollno=\"128\"\n",
    "f\"my name is {name} and my roll number is {rollno}\""
   ]
  },
  {
   "cell_type": "code",
   "execution_count": 10,
   "metadata": {},
   "outputs": [
    {
     "data": {
      "text/plain": [
       "'aamir and khan'"
      ]
     },
     "execution_count": 10,
     "metadata": {},
     "output_type": "execute_result"
    }
   ],
   "source": [
    "\"{val1} and {val2}\".format(val1=\"aamir\",val2=\"khan\")"
   ]
  },
  {
   "cell_type": "code",
   "execution_count": null,
   "metadata": {},
   "outputs": [],
   "source": []
  }
 ],
 "metadata": {
  "kernelspec": {
   "display_name": "Python 3",
   "language": "python",
   "name": "python3"
  },
  "language_info": {
   "codemirror_mode": {
    "name": "ipython",
    "version": 3
   },
   "file_extension": ".py",
   "mimetype": "text/x-python",
   "name": "python",
   "nbconvert_exporter": "python",
   "pygments_lexer": "ipython3",
   "version": "3.7.4"
  }
 },
 "nbformat": 4,
 "nbformat_minor": 2
}
