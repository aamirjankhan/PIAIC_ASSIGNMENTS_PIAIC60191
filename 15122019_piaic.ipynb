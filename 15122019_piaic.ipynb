{
 "cells": [
  {
   "cell_type": "code",
   "execution_count": 2,
   "metadata": {},
   "outputs": [
    {
     "data": {
      "text/plain": [
       "{'id': 1,\n",
       " 'name': 'Aamir Jan Khan',\n",
       " 'course': 'A.I',\n",
       " 'admission date': '15-12-2019'}"
      ]
     },
     "execution_count": 2,
     "metadata": {},
     "output_type": "execute_result"
    }
   ],
   "source": [
    "d1={'id':1,\n",
    "   'name':'Aamir Jan Khan',\n",
    "   'course':'A.I',\n",
    "   'admission date':'15-12-2019'}\n",
    "d1"
   ]
  },
  {
   "cell_type": "code",
   "execution_count": 3,
   "metadata": {},
   "outputs": [
    {
     "name": "stdout",
     "output_type": "stream",
     "text": [
      "please enter your id: 1\n",
      "please enter your name: aamir\n",
      "enter your skills\n",
      "enter your skills: python\n",
      "do you want to continue\n",
      "press 1 to continue and 0 to exit\n",
      "1\n",
      "enter your skills\n",
      "enter your skills: c#\n",
      "do you want to continue\n",
      "press 1 to continue and 0 to exit\n",
      "1\n",
      "enter your skills\n",
      "enter your skills: c++\n",
      "do you want to continue\n",
      "press 1 to continue and 0 to exit\n",
      "1\n",
      "enter your skills\n",
      "enter your skills: java\n",
      "do you want to continue\n",
      "press 1 to continue and 0 to exit\n",
      "0\n"
     ]
    },
    {
     "data": {
      "text/plain": [
       "{'id': '1', 'name': 'aamir', 'skills': ['python', 'c#', 'c++', 'java']}"
      ]
     },
     "execution_count": 3,
     "metadata": {},
     "output_type": "execute_result"
    }
   ],
   "source": [
    "dict1={}\n",
    "dict1['id']=input('please enter your id: ')\n",
    "dict1['name']=input('please enter your name: ')\n",
    "skills=[]\n",
    "for i in range(10):\n",
    "    print('enter your skills')\n",
    "    skills.append(input('enter your skills: '))\n",
    "    print('do you want to continue\\npress 1 to continue and 0 to exit')\n",
    "    a=int(input())\n",
    "    if a==0:\n",
    "        break\n",
    "dict1['skills']=skills\n",
    "dict1"
   ]
  },
  {
   "cell_type": "code",
   "execution_count": 4,
   "metadata": {},
   "outputs": [
    {
     "name": "stdout",
     "output_type": "stream",
     "text": [
      "please enter your id: 1\n",
      "please enter your name: aamir\n",
      "input your skillspython c# c++ java\n"
     ]
    },
    {
     "data": {
      "text/plain": [
       "{'id': '1', 'name': 'aamir', 'skills': ['python', 'c#', 'c++', 'java']}"
      ]
     },
     "execution_count": 4,
     "metadata": {},
     "output_type": "execute_result"
    }
   ],
   "source": [
    "dict1={}\n",
    "dict1['id']=input('please enter your id: ')\n",
    "dict1['name']=input('please enter your name: ')\n",
    "skills=input('input your skills')\n",
    "dict1['skills']=skills.split()\n",
    "dict1"
   ]
  },
  {
   "cell_type": "code",
   "execution_count": 5,
   "metadata": {},
   "outputs": [
    {
     "name": "stdout",
     "output_type": "stream",
     "text": [
      "please enter your id: 1\n",
      "please enter your name: aamir\n",
      "enter your skillsc# c++\n"
     ]
    },
    {
     "data": {
      "text/plain": [
       "{'id': '1', 'name': 'aamir', 'skills': ['python', 'c#', 'c++']}"
      ]
     },
     "execution_count": 5,
     "metadata": {},
     "output_type": "execute_result"
    }
   ],
   "source": [
    "dict1={}\n",
    "dict1['id']=input('please enter your id: ')\n",
    "dict1['name']=input('please enter your name: ')\n",
    "skills=['python']\n",
    "skill=input('enter your skills')\n",
    "dict1['skills']=skills+skill.split()\n",
    "dict1"
   ]
  },
  {
   "cell_type": "code",
   "execution_count": 6,
   "metadata": {},
   "outputs": [
    {
     "data": {
      "text/plain": [
       "['python', 'c#', 'c++']"
      ]
     },
     "execution_count": 6,
     "metadata": {},
     "output_type": "execute_result"
    }
   ],
   "source": [
    "dict1.get('skills')"
   ]
  },
  {
   "cell_type": "code",
   "execution_count": 7,
   "metadata": {},
   "outputs": [
    {
     "data": {
      "text/plain": [
       "{}"
      ]
     },
     "execution_count": 7,
     "metadata": {},
     "output_type": "execute_result"
    }
   ],
   "source": [
    "from collections import defaultdict\n",
    "d1={'id':1,\n",
    "   'name':'Aamir Jan Khan',\n",
    "   'course':'A.I',\n",
    "   'admission date':'15-12-2019'}\n",
    "d1.clear()\n",
    "d1"
   ]
  },
  {
   "cell_type": "code",
   "execution_count": 8,
   "metadata": {},
   "outputs": [
    {
     "ename": "NameError",
     "evalue": "name 'd1' is not defined",
     "output_type": "error",
     "traceback": [
      "\u001b[1;31m---------------------------------------------------------------------------\u001b[0m",
      "\u001b[1;31mNameError\u001b[0m                                 Traceback (most recent call last)",
      "\u001b[1;32m<ipython-input-8-1950fab51403>\u001b[0m in \u001b[0;36m<module>\u001b[1;34m\u001b[0m\n\u001b[0;32m      4\u001b[0m    'admission date':'15-12-2019'}\n\u001b[0;32m      5\u001b[0m \u001b[1;32mdel\u001b[0m\u001b[1;33m(\u001b[0m\u001b[0md1\u001b[0m\u001b[1;33m)\u001b[0m\u001b[1;33m\u001b[0m\u001b[1;33m\u001b[0m\u001b[0m\n\u001b[1;32m----> 6\u001b[1;33m \u001b[0md1\u001b[0m\u001b[1;33m\u001b[0m\u001b[1;33m\u001b[0m\u001b[0m\n\u001b[0m",
      "\u001b[1;31mNameError\u001b[0m: name 'd1' is not defined"
     ]
    }
   ],
   "source": [
    "d1={'id':1,\n",
    "   'name':'Aamir Jan Khan',\n",
    "   'course':'A.I',\n",
    "   'admission date':'15-12-2019'}\n",
    "del(d1)\n",
    "d1"
   ]
  },
  {
   "cell_type": "code",
   "execution_count": null,
   "metadata": {},
   "outputs": [],
   "source": [
    "d1={'id':1,\n",
    "   'name':'Aamir Jan Khan',\n",
    "   'course':'A.I',\n",
    "   'admission date':'15-12-2019'}\n",
    "d2=d1.copy() #deep copy\n",
    "d2['id']=10\n",
    "print('d2',d2)\n",
    "print('d1',d1)"
   ]
  },
  {
   "cell_type": "code",
   "execution_count": null,
   "metadata": {},
   "outputs": [],
   "source": [
    "d1={'id':1,\n",
    "   'name':'Aamir Jan Khan',\n",
    "   'course':'A.I',\n",
    "   'admission date':'15-12-2019'}\n",
    "d1.fromkeys(['name'])\n",
    "d1"
   ]
  },
  {
   "cell_type": "code",
   "execution_count": null,
   "metadata": {},
   "outputs": [],
   "source": [
    "d3={}\n",
    "list1=['id','name','course','timing','address','DOB']\n",
    "d3.fromkeys(list1,'NA')"
   ]
  },
  {
   "cell_type": "code",
   "execution_count": 11,
   "metadata": {},
   "outputs": [
    {
     "name": "stdout",
     "output_type": "stream",
     "text": [
      "please enter your values: a b c d e\n"
     ]
    },
    {
     "data": {
      "text/plain": [
       "{'a': 'na', 'b': 'na', 'c': 'na', 'd': 'na', 'e': 'na'}"
      ]
     },
     "execution_count": 11,
     "metadata": {},
     "output_type": "execute_result"
    }
   ],
   "source": [
    "d3={}\n",
    "list1=input('please enter your values: ').split()\n",
    "d3=d3.fromkeys(list1,'na')\n",
    "d3"
   ]
  },
  {
   "cell_type": "code",
   "execution_count": 19,
   "metadata": {},
   "outputs": [
    {
     "data": {
      "text/plain": [
       "{'a': 'z', 'b': 'x', 'c': 'v', 'd': 'm'}"
      ]
     },
     "execution_count": 19,
     "metadata": {},
     "output_type": "execute_result"
    }
   ],
   "source": [
    "dict1={}\n",
    "lst1=['a','b','c','d']\n",
    "lst2=['z','x','v','m']\n",
    "for x,y in zip(lst1,lst2):\n",
    "    dict1.update({x:y})\n",
    "dict1"
   ]
  },
  {
   "cell_type": "code",
   "execution_count": 21,
   "metadata": {},
   "outputs": [
    {
     "name": "stdout",
     "output_type": "stream",
     "text": [
      "enter values for keys: aamir abdullah khalid \n",
      "enter values for values: 001 002 003\n"
     ]
    },
    {
     "data": {
      "text/plain": [
       "{'aamir': '001', 'abdullah': '002', 'khalid': '003'}"
      ]
     },
     "execution_count": 21,
     "metadata": {},
     "output_type": "execute_result"
    }
   ],
   "source": [
    "dict2={}\n",
    "list1=input('enter values for keys: ').split()\n",
    "list2=input('enter values for values: ').split()\n",
    "for x,y in zip(list1,list2):\n",
    "    dict2.update({x:y})\n",
    "dict2"
   ]
  },
  {
   "cell_type": "code",
   "execution_count": 30,
   "metadata": {},
   "outputs": [
    {
     "data": {
      "text/plain": [
       "{'i': 9, 'h': 8, 'g': 7, 'f': 6, 'e': 5, 'd': 4, 'c': 3, 'b': 2, 'a': 1}"
      ]
     },
     "execution_count": 30,
     "metadata": {},
     "output_type": "execute_result"
    }
   ],
   "source": [
    "dict1={'a':1,'b':2,'c':3,'d':4,'e':5,'f':6,'g':7,'h':8,'i':9}\n",
    "dict2={}\n",
    "lst1=list(dict1.keys())\n",
    "lst1.sort(reverse=True)\n",
    "for a in lst1:\n",
    "    dict2.update({a:dict1.get(a)})\n",
    "dict2"
   ]
  },
  {
   "cell_type": "code",
   "execution_count": 37,
   "metadata": {},
   "outputs": [
    {
     "data": {
      "text/plain": [
       "{'a': 1, 'b': 2, 'c': 3, 'd': 4, 'e': 5, 'f': 6, 'g': 7, 'h': 8, 'i': 9}"
      ]
     },
     "execution_count": 37,
     "metadata": {},
     "output_type": "execute_result"
    }
   ],
   "source": [
    "d1={'a':1,'b':2,'c':3,'d':4,'e':5,'f':6,'g':7,'h':8,'i':9}\n",
    "{k:v for k,v in sorted(d1.items() , key = lambda item : item[1])}"
   ]
  },
  {
   "cell_type": "code",
   "execution_count": 39,
   "metadata": {},
   "outputs": [
    {
     "name": "stdout",
     "output_type": "stream",
     "text": [
      "please enter your id: 1\n",
      "please enter your name: aamir\n",
      "enter your skillsc# python\n",
      "do you want to exit\n",
      "press xy\n",
      "please enter your id: 1\n",
      "please enter your name: aamir\n",
      "enter your skillspython\n",
      "do you want to exit\n",
      "press xx\n"
     ]
    },
    {
     "data": {
      "text/plain": [
       "[{'id': '1', 'name': 'aamir', 'skills': ['c#', 'python']},\n",
       " {'id': '1', 'name': 'aamir', 'skills': ['python']}]"
      ]
     },
     "execution_count": 39,
     "metadata": {},
     "output_type": "execute_result"
    }
   ],
   "source": [
    "lst=[]\n",
    "x=\"\"\n",
    "while x!= 'x':\n",
    "    dict1={}\n",
    "    dict1['id']=input('please enter your id: ')\n",
    "    dict1['name']=input('please enter your name: ')\n",
    "    skill=input('enter your skills')\n",
    "    dict1['skills']=skill.split()\n",
    "    lst.append(dict1)\n",
    "    x=input('do you want to exit\\npress x')\n",
    "lst\n",
    "\n",
    "    "
   ]
  },
  {
   "cell_type": "code",
   "execution_count": null,
   "metadata": {},
   "outputs": [],
   "source": []
  }
 ],
 "metadata": {
  "kernelspec": {
   "display_name": "Python 3",
   "language": "python",
   "name": "python3"
  },
  "language_info": {
   "codemirror_mode": {
    "name": "ipython",
    "version": 3
   },
   "file_extension": ".py",
   "mimetype": "text/x-python",
   "name": "python",
   "nbconvert_exporter": "python",
   "pygments_lexer": "ipython3",
   "version": "3.7.4"
  }
 },
 "nbformat": 4,
 "nbformat_minor": 2
}
