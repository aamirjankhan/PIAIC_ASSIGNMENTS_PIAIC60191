{
 "cells": [
  {
   "cell_type": "code",
   "execution_count": null,
   "metadata": {},
   "outputs": [
    {
     "name": "stdout",
     "output_type": "stream",
     "text": [
      "please enter a value: lk\n"
     ]
    }
   ],
   "source": [
    "List=[]\n",
    "for i in range(10):\n",
    "    value=input(\"please enter a value: \")\n",
    "    List.append(value)\n",
    "print(List)"
   ]
  },
  {
   "cell_type": "code",
   "execution_count": null,
   "metadata": {},
   "outputs": [],
   "source": [
    "names=['A','B','C']\n",
    "names1=names\n",
    "names1[0]='Z'\n",
    "print(names)\n",
    "print(names1)\n",
    "#shallow copy only memory addresses"
   ]
  },
  {
   "cell_type": "code",
   "execution_count": null,
   "metadata": {},
   "outputs": [],
   "source": [
    "names=['A','B','C']\n",
    "names1=names.copy()\n",
    "names1[0]='Z'\n",
    "print(names)\n",
    "print(names1)\n",
    "#deep copy only value not addresses"
   ]
  },
  {
   "cell_type": "code",
   "execution_count": null,
   "metadata": {},
   "outputs": [],
   "source": [
    "#in line and in memory\n",
    "l1=[1,2,3]\n",
    "l2=[4,5,6]\n",
    "l3=l1 + l2\n",
    "print(l3)\n",
    "l3[0]=7\n",
    "print(l3)\n",
    "print(l2)\n",
    "print(l1)"
   ]
  },
  {
   "cell_type": "code",
   "execution_count": null,
   "metadata": {},
   "outputs": [],
   "source": [
    "l1=[1,2,3]\n",
    "l2=[4,5,6]\n",
    "l3=l1.extend(l2)\n",
    "print(l3)"
   ]
  },
  {
   "cell_type": "code",
   "execution_count": null,
   "metadata": {},
   "outputs": [],
   "source": [
    "l1=[]\n",
    "l1.insert(0,'A')\n",
    "l1.insert(0,'B')\n",
    "l1.insert(0,'C')\n",
    "l1.insert(1,'D')\n",
    "l1.insert(-1,'E')\n",
    "print(l1)"
   ]
  },
  {
   "cell_type": "code",
   "execution_count": null,
   "metadata": {},
   "outputs": [],
   "source": [
    "l1=['A','C','D','E','E','F']\n",
    "l1.remove('E')\n",
    "print(l1)"
   ]
  },
  {
   "cell_type": "code",
   "execution_count": null,
   "metadata": {},
   "outputs": [],
   "source": [
    "l1=['A','C','D','E','E','F']\n",
    "l1.sort(reverse=True)\n",
    "print(l1)"
   ]
  },
  {
   "cell_type": "code",
   "execution_count": null,
   "metadata": {},
   "outputs": [],
   "source": [
    "l1=['A','C','D','E','E','F']\n",
    "#inline operation\n",
    "l2 = l1.__add__(['G','H','I','J'])\n",
    "print(l1)\n",
    "print(l2)"
   ]
  },
  {
   "cell_type": "code",
   "execution_count": null,
   "metadata": {},
   "outputs": [],
   "source": [
    "l1=['A','C','D','E','E','F']\n",
    "l1.__class__"
   ]
  },
  {
   "cell_type": "code",
   "execution_count": null,
   "metadata": {},
   "outputs": [],
   "source": [
    "l1=['A','C','D','E','E','F']\n",
    "print(l1.__contains__(\"A\"))\n",
    "print(l1.__contains__(\"F\"))"
   ]
  },
  {
   "cell_type": "code",
   "execution_count": null,
   "metadata": {},
   "outputs": [],
   "source": [
    "l1=['A','C','D','E','E','F']\n",
    "l1.__"
   ]
  },
  {
   "cell_type": "code",
   "execution_count": null,
   "metadata": {},
   "outputs": [],
   "source": [
    "l1=[1,3,5]\n",
    "#  1>=2 & 3>=4 & 5>=6  \n",
    "l2=[2,4,6]\n",
    "l1.__ge__(l2)"
   ]
  },
  {
   "cell_type": "code",
   "execution_count": null,
   "metadata": {},
   "outputs": [],
   "source": [
    "__eq__ > checks equality\n",
    "__ge__ > greater then equal"
   ]
  },
  {
   "cell_type": "code",
   "execution_count": null,
   "metadata": {},
   "outputs": [],
   "source": [
    "# counter\n",
    "# logic \n",
    "# increment / decrement"
   ]
  },
  {
   "cell_type": "code",
   "execution_count": 1,
   "metadata": {},
   "outputs": [
    {
     "name": "stdout",
     "output_type": "stream",
     "text": [
      "please enter your name: Aamir Jan Khan\n",
      "please enter your father's name: Khalid Raheel\n",
      "please enter your roll number: PIAIC 60191\n",
      "do you want to continue press Y\n",
      "Y\n",
      "please enter your name: Abdullah Jan\n",
      "please enter your father's name: Khalid Raheel\n",
      "please enter your roll number: PIAIC 60192\n",
      "do you want to continue press Y\n",
      "y\n",
      "[('Aamir Jan Khan', 'Khalid Raheel', 'PIAIC 60191'), ('Abdullah Jan', 'Khalid Raheel', 'PIAIC 60192')]\n"
     ]
    }
   ],
   "source": [
    "List=[]\n",
    "for i in  range(10):\n",
    "    option1=input(\"please enter your name: \")\n",
    "    option2=input(\"please enter your father's name: \")\n",
    "    option3=input(\"please enter your roll number: \")\n",
    "    List.append((option1,option2,option3))\n",
    "    print(\"do you want to continue press Y\")\n",
    "    op=input()\n",
    "    if op != \"Y\":\n",
    "        break\n",
    "print(List)"
   ]
  },
  {
   "cell_type": "code",
   "execution_count": 6,
   "metadata": {},
   "outputs": [
    {
     "name": "stdout",
     "output_type": "stream",
     "text": [
      "1000\n",
      "999\n",
      "998\n",
      "997\n",
      "996\n",
      "995\n",
      "994\n",
      "993\n",
      "992\n",
      "991\n",
      "990\n"
     ]
    }
   ],
   "source": [
    "count=1000\n",
    "for i in range(11):\n",
    "    print(count)\n",
    "    count -= 1"
   ]
  },
  {
   "cell_type": "code",
   "execution_count": 5,
   "metadata": {},
   "outputs": [
    {
     "name": "stdout",
     "output_type": "stream",
     "text": [
      "1000\n",
      "999\n",
      "998\n",
      "997\n",
      "996\n",
      "995\n",
      "994\n",
      "993\n",
      "992\n",
      "991\n",
      "990\n"
     ]
    }
   ],
   "source": [
    "count=1000 \n",
    "while count >= 990:\n",
    "    print(count)\n",
    "    count -= 1"
   ]
  },
  {
   "cell_type": "code",
   "execution_count": 8,
   "metadata": {},
   "outputs": [
    {
     "name": "stdout",
     "output_type": "stream",
     "text": [
      "A\n",
      "B\n",
      "C\n",
      "D\n",
      "E\n",
      "F\n",
      "G\n",
      "H\n",
      "I\n",
      "J\n",
      "K\n",
      "L\n",
      "M\n",
      "N\n",
      "O\n",
      "P\n",
      "Q\n",
      "R\n",
      "S\n",
      "T\n",
      "U\n",
      "V\n",
      "W\n",
      "X\n",
      "Y\n",
      "Z\n"
     ]
    }
   ],
   "source": [
    "abc=65\n",
    "while abc < 91:\n",
    "    print(chr(abc))\n",
    "    abc += 1 "
   ]
  },
  {
   "cell_type": "code",
   "execution_count": 9,
   "metadata": {},
   "outputs": [
    {
     "name": "stdout",
     "output_type": "stream",
     "text": [
      "a\n",
      "b\n",
      "c\n",
      "d\n",
      "e\n",
      "f\n",
      "g\n",
      "h\n",
      "i\n",
      "j\n",
      "k\n",
      "l\n",
      "m\n",
      "n\n",
      "o\n",
      "p\n",
      "q\n",
      "r\n",
      "s\n",
      "t\n",
      "u\n",
      "v\n",
      "w\n",
      "x\n",
      "y\n",
      "z\n"
     ]
    }
   ],
   "source": [
    "abc=97\n",
    "while abc < 123:\n",
    "    print(chr(abc))\n",
    "    abc += 1 "
   ]
  },
  {
   "cell_type": "code",
   "execution_count": 10,
   "metadata": {},
   "outputs": [
    {
     "name": "stdout",
     "output_type": "stream",
     "text": [
      "0\n",
      "1\n",
      "2\n",
      "3\n",
      "4\n",
      "5\n",
      "6\n",
      "7\n",
      "8\n",
      "9\n"
     ]
    }
   ],
   "source": [
    "abc=48\n",
    "while abc < 58:\n",
    "    print(chr(abc))\n",
    "    abc += 1 "
   ]
  },
  {
   "cell_type": "code",
   "execution_count": 15,
   "metadata": {},
   "outputs": [
    {
     "ename": "TypeError",
     "evalue": "'NoneType' object is not subscriptable",
     "output_type": "error",
     "traceback": [
      "\u001b[1;31m---------------------------------------------------------------------------\u001b[0m",
      "\u001b[1;31mTypeError\u001b[0m                                 Traceback (most recent call last)",
      "\u001b[1;32m<ipython-input-15-3378b1080cfc>\u001b[0m in \u001b[0;36m<module>\u001b[1;34m\u001b[0m\n\u001b[0;32m      9\u001b[0m \u001b[0mls3\u001b[0m\u001b[1;33m=\u001b[0m\u001b[0mfunc1\u001b[0m\u001b[1;33m(\u001b[0m\u001b[1;36m48\u001b[0m\u001b[1;33m,\u001b[0m\u001b[1;36m58\u001b[0m\u001b[1;33m)\u001b[0m\u001b[1;33m\u001b[0m\u001b[1;33m\u001b[0m\u001b[0m\n\u001b[0;32m     10\u001b[0m \u001b[1;32mfor\u001b[0m \u001b[0mi\u001b[0m \u001b[1;32min\u001b[0m \u001b[0mrange\u001b[0m\u001b[1;33m(\u001b[0m\u001b[1;36m27\u001b[0m\u001b[1;33m)\u001b[0m\u001b[1;33m:\u001b[0m\u001b[1;33m\u001b[0m\u001b[1;33m\u001b[0m\u001b[0m\n\u001b[1;32m---> 11\u001b[1;33m     \u001b[0mprint\u001b[0m\u001b[1;33m(\u001b[0m\u001b[1;34m\"{} {} {}\"\u001b[0m\u001b[1;33m.\u001b[0m\u001b[0mformat\u001b[0m\u001b[1;33m(\u001b[0m\u001b[0mls1\u001b[0m\u001b[1;33m[\u001b[0m\u001b[0mi\u001b[0m\u001b[1;33m]\u001b[0m\u001b[1;33m,\u001b[0m\u001b[0mls2\u001b[0m\u001b[1;33m[\u001b[0m\u001b[0mi\u001b[0m\u001b[1;33m]\u001b[0m\u001b[1;33m,\u001b[0m\u001b[0mls3\u001b[0m\u001b[1;33m[\u001b[0m\u001b[0mi\u001b[0m\u001b[1;33m]\u001b[0m\u001b[1;33m)\u001b[0m\u001b[1;33m)\u001b[0m\u001b[1;33m\u001b[0m\u001b[1;33m\u001b[0m\u001b[0m\n\u001b[0m",
      "\u001b[1;31mTypeError\u001b[0m: 'NoneType' object is not subscriptable"
     ]
    }
   ],
   "source": [
    "list1 = []\n",
    "def func1(X,Y):\n",
    "    lst=[]\n",
    "    while X < Y:\n",
    "        lst.append(X)\n",
    "        X += 1 \n",
    "ls1=func1(65,91)\n",
    "ls2=func1(97,123)\n",
    "ls3=func1(48,58)\n",
    "for i in range(27):\n",
    "    print(\"{} {} {}\".format(ls1[i],ls2[i],ls3[i]))"
   ]
  },
  {
   "cell_type": "code",
   "execution_count": 10,
   "metadata": {},
   "outputs": [
    {
     "name": "stdout",
     "output_type": "stream",
     "text": [
      "enter table: 3\n",
      "1 X 1 = 1 2 X 1 = 2 3 X 1 = 3 \n",
      "1 X 2 = 2 2 X 2 = 4 3 X 2 = 6 \n",
      "1 X 3 = 3 2 X 3 = 6 3 X 3 = 9 \n",
      "1 X 4 = 4 2 X 4 = 8 3 X 4 = 12 \n",
      "1 X 5 = 5 2 X 5 = 10 3 X 5 = 15 \n",
      "1 X 6 = 6 2 X 6 = 12 3 X 6 = 18 \n",
      "1 X 7 = 7 2 X 7 = 14 3 X 7 = 21 \n",
      "1 X 8 = 8 2 X 8 = 16 3 X 8 = 24 \n",
      "1 X 9 = 9 2 X 9 = 18 3 X 9 = 27 \n",
      "1 X 10 = 10 2 X 10 = 20 3 X 10 = 30 \n",
      "\n"
     ]
    }
   ],
   "source": [
    "var=int(input(\"enter table: \"))\n",
    "var1=1\n",
    "table=\"\"\n",
    "for i in range(1,11):\n",
    "    for j in range(var):\n",
    "        table += str(var1)+\" X \"+str(i)+\" = \"+str(var1*i)+\" \"\n",
    "        var1 += 1\n",
    "    table += '\\n'\n",
    "    var1 = 1\n",
    "print(table)\n",
    "\n",
    "    \n"
   ]
  },
  {
   "cell_type": "code",
   "execution_count": 12,
   "metadata": {},
   "outputs": [
    {
     "name": "stdout",
     "output_type": "stream",
     "text": [
      "value: 5 indexes: 0 1\n",
      "value: 10 indexes: 1 2\n",
      "value: 30 indexes: 2 1\n",
      "value: 35 indexes: 3 0\n",
      "value: 20 indexes: 3 2\n"
     ]
    }
   ],
   "source": [
    "mat=[[2,5,9],[8,9,10],[23,30,27],[35,9,20]]\n",
    "for i in range(4):\n",
    "    for j in range(3):\n",
    "        if mat[i][j] %5==0:\n",
    "            print(\"value: \"+str(mat[i][j])+\" indexes: \"+(str(i)+\" \"+str(j)))"
   ]
  },
  {
   "cell_type": "code",
   "execution_count": 15,
   "metadata": {},
   "outputs": [
    {
     "ename": "IndentationError",
     "evalue": "expected an indented block (<ipython-input-15-5f8a545cc394>, line 14)",
     "output_type": "error",
     "traceback": [
      "\u001b[1;36m  File \u001b[1;32m\"<ipython-input-15-5f8a545cc394>\"\u001b[1;36m, line \u001b[1;32m14\u001b[0m\n\u001b[1;33m    elif initiative == 'girl':\u001b[0m\n\u001b[1;37m       ^\u001b[0m\n\u001b[1;31mIndentationError\u001b[0m\u001b[1;31m:\u001b[0m expected an indented block\n"
     ]
    }
   ],
   "source": [
    "initiative=input() #friend girl\n",
    "slap=True\n",
    "rich=True\n",
    "husband=True\n",
    "if initiative == 'you':\n",
    "    if rich == True and slap == True:\n",
    "        print('costumer feedback')\n",
    "    elif rich == True and slap == False:\n",
    "        print('Direct marketing')\n",
    "    elif husband == True:\n",
    "        print('Demand and supply gap')\n",
    "elif initiative == 'friend':\n",
    "    \n",
    "elif initiative == 'girl':\n",
    "    "
   ]
  },
  {
   "cell_type": "code",
   "execution_count": null,
   "metadata": {},
   "outputs": [],
   "source": []
  }
 ],
 "metadata": {
  "kernelspec": {
   "display_name": "Python 3",
   "language": "python",
   "name": "python3"
  },
  "language_info": {
   "codemirror_mode": {
    "name": "ipython",
    "version": 3
   },
   "file_extension": ".py",
   "mimetype": "text/x-python",
   "name": "python",
   "nbconvert_exporter": "python",
   "pygments_lexer": "ipython3",
   "version": "3.7.4"
  }
 },
 "nbformat": 4,
 "nbformat_minor": 2
}
