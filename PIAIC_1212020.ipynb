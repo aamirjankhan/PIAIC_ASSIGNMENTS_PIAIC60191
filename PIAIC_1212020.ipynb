{
 "cells": [
  {
   "cell_type": "code",
   "execution_count": 5,
   "metadata": {},
   "outputs": [
    {
     "name": "stdout",
     "output_type": "stream",
     "text": [
      "name:  aamir age:  21\n",
      "name:  abdullah age:  23\n",
      "my name is aamir jan khan\n"
     ]
    }
   ],
   "source": [
    "class A():\n",
    "    def __init__(self, name, age):\n",
    "        self.__name = name\n",
    "        self.__age = age\n",
    "    \n",
    "    def display(self):\n",
    "        print('name: ',self.__name,'age: ',self.__age)\n",
    "        \n",
    "    def update(self,a,b):\n",
    "        self.__name = a\n",
    "        self.__age = b\n",
    "        print('name: ',self.__name,'age: ',self.__age)\n",
    "        self.__info()\n",
    "    def __info(self):\n",
    "        print('my name is aamir jan khan')\n",
    "      \n",
    "    \n",
    "a=A('aamir',21)\n",
    "a.display()\n",
    "a.update('abdullah',23)"
   ]
  },
  {
   "cell_type": "code",
   "execution_count": 6,
   "metadata": {},
   "outputs": [],
   "source": [
    "from  abc import ABC, abstractmethod"
   ]
  },
  {
   "cell_type": "code",
   "execution_count": 14,
   "metadata": {},
   "outputs": [
    {
     "name": "stdout",
     "output_type": "stream",
     "text": [
      "Aamir Jan Khan \n",
      " 27\n"
     ]
    }
   ],
   "source": [
    "class Abstract(ABC):\n",
    "    @abstractmethod\n",
    "    def __init__(self, a, b):\n",
    "        \n",
    "        self.__a = a\n",
    "        self.__b = b\n",
    "        \n",
    "class B(Abstract):\n",
    "    def __init__(self):\n",
    "        self.name=None\n",
    "        self.age=None\n",
    "    \n",
    "    def display(self, a, b):\n",
    "        self.name = a\n",
    "        self.age = b\n",
    "        print(a,'\\n',b)\n",
    "        \n",
    "obj = B()\n",
    "obj.display('Aamir Jan Khan',27)"
   ]
  },
  {
   "cell_type": "code",
   "execution_count": 20,
   "metadata": {},
   "outputs": [
    {
     "name": "stdout",
     "output_type": "stream",
     "text": [
      "name:  Abdullah\n",
      "age:  23\n",
      "name:  khalid\n",
      "age:  23\n"
     ]
    }
   ],
   "source": [
    "class A():\n",
    "    def __init__(self, name, age):\n",
    "        self.name = name\n",
    "        self.age = age\n",
    "    \n",
    "    def display(self):\n",
    "        print('name: ',self.name)\n",
    "        print('age: ',self.age)\n",
    "\n",
    "class B(A):\n",
    "    def __init__(self):\n",
    "        self.name = 'aamir jan Khan'\n",
    "        self.age = 22\n",
    "        \n",
    "obj1 = A('Abdullah', 23)\n",
    "obj1.display()\n",
    "obj2 = B()\n",
    "obj2.age=23\n",
    "obj2.name='khalid'\n",
    "obj2.display()\n",
    "        "
   ]
  },
  {
   "cell_type": "code",
   "execution_count": 47,
   "metadata": {},
   "outputs": [
    {
     "ename": "TypeError",
     "evalue": "add() takes from 1 to 3 positional arguments but 4 were given",
     "output_type": "error",
     "traceback": [
      "\u001b[1;31m---------------------------------------------------------------------------\u001b[0m",
      "\u001b[1;31mTypeError\u001b[0m                                 Traceback (most recent call last)",
      "\u001b[1;32m<ipython-input-47-bb3bf4c29ea1>\u001b[0m in \u001b[0;36m<module>\u001b[1;34m\u001b[0m\n\u001b[0;32m     48\u001b[0m \u001b[0mobj\u001b[0m\u001b[1;33m.\u001b[0m\u001b[0madd\u001b[0m\u001b[1;33m(\u001b[0m\u001b[1;36m1\u001b[0m\u001b[1;33m,\u001b[0m\u001b[1;36m2\u001b[0m\u001b[1;33m)\u001b[0m\u001b[1;33m\u001b[0m\u001b[1;33m\u001b[0m\u001b[0m\n\u001b[0;32m     49\u001b[0m \u001b[0mobj\u001b[0m\u001b[1;33m.\u001b[0m\u001b[0madd\u001b[0m\u001b[1;33m(\u001b[0m\u001b[1;36m23\u001b[0m\u001b[1;33m,\u001b[0m\u001b[1;36m45\u001b[0m\u001b[1;33m)\u001b[0m\u001b[1;33m\u001b[0m\u001b[1;33m\u001b[0m\u001b[0m\n\u001b[1;32m---> 50\u001b[1;33m \u001b[0mobj\u001b[0m\u001b[1;33m.\u001b[0m\u001b[0madd\u001b[0m\u001b[1;33m(\u001b[0m\u001b[1;36m23\u001b[0m\u001b[1;33m,\u001b[0m\u001b[1;36m12\u001b[0m\u001b[1;33m,\u001b[0m\u001b[1;36m12\u001b[0m\u001b[1;33m)\u001b[0m\u001b[1;33m\u001b[0m\u001b[1;33m\u001b[0m\u001b[0m\n\u001b[0m\u001b[0;32m     51\u001b[0m \u001b[1;33m\u001b[0m\u001b[0m\n\u001b[0;32m     52\u001b[0m \u001b[1;33m\u001b[0m\u001b[0m\n",
      "\u001b[1;31mTypeError\u001b[0m: add() takes from 1 to 3 positional arguments but 4 were given"
     ]
    }
   ],
   "source": [
    "class AB():\n",
    "    def __init__(self):\n",
    "        self.name = None\n",
    "        self.age = None\n",
    "    \n",
    "    def add(self, a, b, c):\n",
    "        self.a = a\n",
    "        self.b = b\n",
    "        self.c = c\n",
    "        return a + b + c\n",
    "    \n",
    "    def subtract(self, a, b):\n",
    "        self.a = a\n",
    "        self.b = b\n",
    "        return a - b\n",
    "\n",
    "class AC():\n",
    "    def __init__(self):\n",
    "        self.name = None\n",
    "    \n",
    "    def add(self, a, b):\n",
    "        self.a = a\n",
    "        self.b = b\n",
    "        return a + b\n",
    "    def subtract(self, a, b, c):\n",
    "        self.a = a\n",
    "        self.b = b\n",
    "        self.c = c\n",
    "        return a-b-c\n",
    "    \n",
    "class AD(AB,AC):\n",
    "    def __init__(self):\n",
    "        \n",
    "        self.age = None\n",
    "    \n",
    "    def add(self,a=5, b=6):\n",
    "        self.a = a\n",
    "        self.b = b\n",
    "        return a+b\n",
    "    \n",
    "    def subtract(self,a=10, b=4):\n",
    "        self.a = a\n",
    "        self.b = b\n",
    "        return a-b\n",
    "\n",
    "\n",
    "obj=AD()\n",
    "obj.add(1,2)\n",
    "obj.add(23,45)\n",
    "obj.add(23,12,12)\n",
    "        \n",
    "        "
   ]
  },
  {
   "cell_type": "code",
   "execution_count": 7,
   "metadata": {},
   "outputs": [
    {
     "name": "stdout",
     "output_type": "stream",
     "text": [
      "Aamir Jan Khan \n",
      " 27\n"
     ]
    }
   ],
   "source": [
    "from abc import ABC, abstractmethod\n",
    "class Abstract(ABC):\n",
    "    @abstractmethod\n",
    "    def __init__(self, a, b):\n",
    "        \n",
    "        self.__a = a\n",
    "        self.__b = b\n",
    "    @abstractmethod\n",
    "    def show(self):\n",
    "        print(\"ABC\")\n",
    "        \n",
    "class B(Abstract):\n",
    "    def __init__(self):\n",
    "        self.name=None\n",
    "        self.age=None\n",
    "    \n",
    "    def display(self, a, b):\n",
    "        self.name = a\n",
    "        self.age = b\n",
    "        print(a,'\\n',b)\n",
    "    def show(self):\n",
    "        print('ABC')\n",
    "        \n",
    "obj = B()\n",
    "obj.display('Aamir Jan Khan',27)"
   ]
  },
  {
   "cell_type": "code",
   "execution_count": 41,
   "metadata": {},
   "outputs": [
    {
     "name": "stdout",
     "output_type": "stream",
     "text": [
      "name:  aamir age:  21\n",
      "name:  abdullah age:  23\n",
      "my name is aamir jan khan\n"
     ]
    }
   ],
   "source": [
    "class A():\n",
    "    def __init__(self, name, age):\n",
    "        self.__name = name\n",
    "        self.__age = age\n",
    "    \n",
    "    def display(self):\n",
    "        print('name: ',self.__name,'age: ',self.__age)\n",
    "        \n",
    "    def update(self,a,b):\n",
    "        self.__name = a\n",
    "        self.__age = b\n",
    "        print('name: ',self.__name,'age: ',self.__age)\n",
    "        self.__info()\n",
    "    def __info(self):\n",
    "        print('my name is aamir jan khan')\n",
    "      \n",
    "    \n",
    "a=A('aamir',21)\n",
    "a.display()\n",
    "a.update('abdullah',23)"
   ]
  }
 ],
 "metadata": {
  "kernelspec": {
   "display_name": "Python 3",
   "language": "python",
   "name": "python3"
  },
  "language_info": {
   "codemirror_mode": {
    "name": "ipython",
    "version": 3
   },
   "file_extension": ".py",
   "mimetype": "text/x-python",
   "name": "python",
   "nbconvert_exporter": "python",
   "pygments_lexer": "ipython3",
   "version": "3.7.4"
  }
 },
 "nbformat": 4,
 "nbformat_minor": 2
}
