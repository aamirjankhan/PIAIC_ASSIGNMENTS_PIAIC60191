{
 "cells": [
  {
   "cell_type": "code",
   "execution_count": 1,
   "metadata": {},
   "outputs": [],
   "source": [
    "text = \"X-DSPAM-Confidence:    0.8475\""
   ]
  },
  {
   "cell_type": "code",
   "execution_count": 2,
   "metadata": {},
   "outputs": [
    {
     "data": {
      "text/plain": [
       "23"
      ]
     },
     "execution_count": 2,
     "metadata": {},
     "output_type": "execute_result"
    }
   ],
   "source": [
    "text.find('0.8475')"
   ]
  },
  {
   "cell_type": "code",
   "execution_count": 3,
   "metadata": {},
   "outputs": [
    {
     "data": {
      "text/plain": [
       "0.8475"
      ]
     },
     "execution_count": 3,
     "metadata": {},
     "output_type": "execute_result"
    }
   ],
   "source": [
    "num=float(text[23:])\n",
    "num"
   ]
  },
  {
   "cell_type": "code",
   "execution_count": 14,
   "metadata": {},
   "outputs": [
    {
     "name": "stdout",
     "output_type": "stream",
     "text": [
      "35\n"
     ]
    },
    {
     "data": {
      "text/plain": [
       "80"
      ]
     },
     "execution_count": 14,
     "metadata": {},
     "output_type": "execute_result"
    }
   ],
   "source": [
    "class Add():\n",
    "    def __init__(self, a, b):\n",
    "        self.a=a\n",
    "        self.b=b\n",
    "    def addVar(self):\n",
    "        return self.a+self.b\n",
    "obj1=Add(15,20)\n",
    "print(obj1.addVar())\n",
    "obj1.a=30\n",
    "obj1.b=50\n",
    "obj1.addVar()"
   ]
  },
  {
   "cell_type": "code",
   "execution_count": 24,
   "metadata": {},
   "outputs": [
    {
     "name": "stdout",
     "output_type": "stream",
     "text": [
      "welcome amjan\n",
      "None\n",
      "abcd\n"
     ]
    },
    {
     "data": {
      "text/plain": [
       "3"
      ]
     },
     "execution_count": 24,
     "metadata": {},
     "output_type": "execute_result"
    }
   ],
   "source": [
    "class Student():\n",
    "    counter = 0\n",
    "    def __init__(self, sid):\n",
    "        self.sid = sid\n",
    "        self.name=''\n",
    "        self.fname = ''\n",
    "        self.course = ''\n",
    "        self.fee = 0\n",
    "        self.user_name = ''\n",
    "        self.password = ''\n",
    "        Student.counter += 1\n",
    "    \n",
    "    def login(self, user_name, password):\n",
    "        self.user_name = user_name\n",
    "        self.password = password\n",
    "        print('welcome', self.user_name)\n",
    "    \n",
    "    def logout(self): pass\n",
    "    \n",
    "    def quiz_attempt(self): pass\n",
    "    \n",
    "    def ateendance_mark(self): pass\n",
    "\n",
    "s1=Student(1)\n",
    "s2=Student(2)\n",
    "s3=Student(3)\n",
    "s1.user_name = 'amjan'\n",
    "s1.password = '1997'\n",
    "print(s1.login('amjan','12345'))\n",
    "s1.DOB = 'abcd'\n",
    "print(s1.DOB)\n",
    "Student.counter"
   ]
  },
  {
   "cell_type": "code",
   "execution_count": 19,
   "metadata": {},
   "outputs": [
    {
     "name": "stdout",
     "output_type": "stream",
     "text": [
      "1\n",
      "2\n",
      "3\n",
      "Aamir\n",
      "Abdullah\n",
      "Raihan\n"
     ]
    }
   ],
   "source": [
    "s1.name = 'Aamir'\n",
    "s2.name = 'Abdullah'\n",
    "s3.name = 'Raihan'\n",
    "print(s1.sid,s2.sid,s3.sid,sep='\\n')\n",
    "print(s1.name,s2.name,s3.name,sep='\\n')"
   ]
  },
  {
   "cell_type": "code",
   "execution_count": 25,
   "metadata": {},
   "outputs": [
    {
     "name": "stdout",
     "output_type": "stream",
     "text": [
      "roti\n",
      "None\n",
      "Urdu ...\n"
     ]
    }
   ],
   "source": [
    "class Parent():\n",
    "    def __init__(self):\n",
    "        self.name = ''\n",
    "        self.fname = ''\n",
    "    \n",
    "    def speak(self, words=''):\n",
    "        print(words,'...')\n",
    "            \n",
    "    def eat(self,food='roti'):\n",
    "        print(food)\n",
    "\n",
    "class Child(Parent):\n",
    "    pass\n",
    "\n",
    "p_obj1=Parent()\n",
    "p_obj1.name = 'ABC'\n",
    "p_obj1.fname = 'XYZ'\n",
    "print(p_obj1.eat())\n",
    "c_obj1=Child()\n",
    "c_obj1.speak('Urdu')"
   ]
  },
  {
   "cell_type": "code",
   "execution_count": 29,
   "metadata": {},
   "outputs": [
    {
     "data": {
      "text/plain": [
       "'Student'"
      ]
     },
     "execution_count": 29,
     "metadata": {},
     "output_type": "execute_result"
    }
   ],
   "source": [
    "class Father():\n",
    "    def __init__(self):\n",
    "        self.name = ''\n",
    "    \n",
    "    def job(self):\n",
    "        return 'GM'\n",
    "\n",
    "class Mother():\n",
    "    def __inti__(self):\n",
    "        self.name = ''\n",
    "    \n",
    "    def job(self):\n",
    "        return 'HouseWife'\n",
    "\n",
    "class Child(Mother,Father):\n",
    "    def job(self):\n",
    "        return 'Student'\n",
    "\n",
    "c_obj1 = Child()\n",
    "c_obj1.job() "
   ]
  },
  {
   "cell_type": "code",
   "execution_count": null,
   "metadata": {},
   "outputs": [],
   "source": []
  },
  {
   "cell_type": "code",
   "execution_count": null,
   "metadata": {},
   "outputs": [],
   "source": []
  },
  {
   "cell_type": "code",
   "execution_count": null,
   "metadata": {},
   "outputs": [],
   "source": []
  },
  {
   "cell_type": "code",
   "execution_count": null,
   "metadata": {},
   "outputs": [],
   "source": []
  },
  {
   "cell_type": "code",
   "execution_count": null,
   "metadata": {},
   "outputs": [],
   "source": []
  }
 ],
 "metadata": {
  "kernelspec": {
   "display_name": "Python 3",
   "language": "python",
   "name": "python3"
  },
  "language_info": {
   "codemirror_mode": {
    "name": "ipython",
    "version": 3
   },
   "file_extension": ".py",
   "mimetype": "text/x-python",
   "name": "python",
   "nbconvert_exporter": "python",
   "pygments_lexer": "ipython3",
   "version": "3.7.4"
  }
 },
 "nbformat": 4,
 "nbformat_minor": 2
}
